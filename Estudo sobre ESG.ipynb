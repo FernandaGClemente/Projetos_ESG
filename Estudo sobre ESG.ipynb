{
 "cells": [
  {
   "cell_type": "markdown",
   "id": "0d7d5549",
   "metadata": {},
   "source": [
    "<center><img width=\"25%\" src=\"https://www.camaramirimdoce.sc.gov.br/media/noticia/resumo-da-sessao-10-06-2019-111.png?w=848&h=450&t=P&c=f0f0f0&q=80&v=2\"></center>\n",
    "\n",
    "---\n",
    "\n",
    "<br>\n",
    "\n",
    "# Estudo sobre ESG\n",
    "\n",
    "<br>"
   ]
  },
  {
   "cell_type": "markdown",
   "id": "6cafdd37",
   "metadata": {},
   "source": [
    "# **Sumário:**\n",
    "1. [Introdução](#Introdução)"
   ]
  },
  {
   "cell_type": "markdown",
   "id": "7c09007d",
   "metadata": {},
   "source": [
    "### **Introdução** \n",
    "[&#x1F53C;](#Sumário:) Clique para voltar para o sumário"
   ]
  },
  {
   "cell_type": "markdown",
   "id": "01fe2cd3",
   "metadata": {},
   "source": [
    "### Pilares do ESG: Entendendo Métricas de Avaliação nas Organizações\n",
    "> https://educacao-executiva.fgv.br/cursos/online/curta-media-duracao-online/pilares-do-esg-entendendo-metricas-de-avaliacao-nas-organizacoes"
   ]
  },
  {
   "cell_type": "markdown",
   "id": "87fcf217",
   "metadata": {},
   "source": [
    "### Sustentabilidade Empresarial\n",
    "> https://veduca.org/courses/sustentabilidade-empresarial/?ref=email&spush=Zm1nYS5ndWltYXJhZXNAZ21haWwuY29t"
   ]
  },
  {
   "cell_type": "markdown",
   "id": "dd37dea2",
   "metadata": {},
   "source": [
    "### Design Sustentável\n",
    "> https://veduca.org/courses/design-sustentavel/?ref=email&spush=Zm1nYS5ndWltYXJhZXNAZ21haWwuY29t"
   ]
  },
  {
   "cell_type": "markdown",
   "id": "8aa83290",
   "metadata": {},
   "source": [
    "### Ecoinovação\n",
    "> https://veduca.org/courses/ecoinovacao/?ref=email&spush=Zm1nYS5ndWltYXJhZXNAZ21haWwuY29t"
   ]
  }
 ],
 "metadata": {
  "kernelspec": {
   "display_name": "Python 3 (ipykernel)",
   "language": "python",
   "name": "python3"
  },
  "language_info": {
   "codemirror_mode": {
    "name": "ipython",
    "version": 3
   },
   "file_extension": ".py",
   "mimetype": "text/x-python",
   "name": "python",
   "nbconvert_exporter": "python",
   "pygments_lexer": "ipython3",
   "version": "3.9.16"
  }
 },
 "nbformat": 4,
 "nbformat_minor": 5
}
